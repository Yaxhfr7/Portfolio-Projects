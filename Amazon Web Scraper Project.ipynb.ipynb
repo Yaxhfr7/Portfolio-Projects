{
 "cells": [
  {
   "cell_type": "markdown",
   "id": "8a1dece8",
   "metadata": {},
   "source": [
    "Web Scraping"
   ]
  },
  {
   "cell_type": "code",
   "execution_count": 2,
   "id": "027d0e54",
   "metadata": {},
   "outputs": [],
   "source": [
    "from bs4 import BeautifulSoup\n",
    "import requests\n",
    "import time\n",
    "import datetime\n",
    "import smtplib"
   ]
  },
  {
   "cell_type": "code",
   "execution_count": 31,
   "id": "7cbc2ab1",
   "metadata": {},
   "outputs": [
    {
     "name": "stdout",
     "output_type": "stream",
     "text": [
      "Got Data Funny Business Data Analyst T-Shirt\n",
      "$15.99\n"
     ]
    }
   ],
   "source": [
    "url = r'https://www.amazon.com/Funny-Data-Systems-Business-Analyst/dp/B07FNW9FGJ/ref=sr_1_3?dchild=1&keywords=data%2Banalyst%2Btshirt&qid=1626655184&sr=8-3&customId=B0752XJYNL&th=&customizationToken=MC_Assembly_1%23B0752XJYNL'\n",
    "\n",
    "page = requests.get(url)\n",
    "soup1 = BeautifulSoup(page.content, 'html.parser')   \n",
    "soup2 = BeautifulSoup(soup1.prettify(), 'html.parser')\n",
    "title = soup2.find(id='productTitle').get_text()\n",
    "symbol = soup2.find(\"span\", class_=\"a-price-symbol\").get_text(strip=True)\n",
    "whole = soup2.find(\"span\", class_=\"a-price-whole\").get_text(strip=True)\n",
    "fraction = soup2.find(\"span\", class_=\"a-price-fraction\").get_text(strip=True)\n",
    "price = f\"{symbol}{whole}{fraction}\"\n",
    "\n",
    "\n",
    "print(title.strip())\n",
    "print(price)\n",
    "\n"
   ]
  },
  {
   "cell_type": "code",
   "execution_count": 32,
   "id": "6d4b4c0b",
   "metadata": {},
   "outputs": [
    {
     "name": "stdout",
     "output_type": "stream",
     "text": [
      "Got Data Funny Business Data Analyst T-Shirt\n",
      "15.99\n"
     ]
    }
   ],
   "source": [
    "price= price.strip()[1:]\n",
    "title = title.strip()\n",
    "print(title)\n",
    "print(price)"
   ]
  },
  {
   "cell_type": "code",
   "execution_count": 39,
   "id": "956ea0b7",
   "metadata": {},
   "outputs": [],
   "source": [
    "import datetime\n",
    "today =datetime.date.today()"
   ]
  },
  {
   "cell_type": "code",
   "execution_count": 45,
   "id": "a61d4adc",
   "metadata": {},
   "outputs": [],
   "source": [
    "#making data frame\n",
    "import csv\n",
    "header = ['Title', 'Price', 'Date']\n",
    "Data = [title, price,today]\n",
    "\n",
    "with open('AmazonWebScraperData.csv', 'w', newline='', encoding='UTF8') as f:\n",
    "    writer = csv.writer(f)\n",
    "    writer.writerow(header)\n",
    "    writer.writerow(Data)\n",
    "\n",
    "\n"
   ]
  },
  {
   "cell_type": "code",
   "execution_count": 46,
   "id": "162377d8",
   "metadata": {},
   "outputs": [
    {
     "data": {
      "text/html": [
       "<div>\n",
       "<style scoped>\n",
       "    .dataframe tbody tr th:only-of-type {\n",
       "        vertical-align: middle;\n",
       "    }\n",
       "\n",
       "    .dataframe tbody tr th {\n",
       "        vertical-align: top;\n",
       "    }\n",
       "\n",
       "    .dataframe thead th {\n",
       "        text-align: right;\n",
       "    }\n",
       "</style>\n",
       "<table border=\"1\" class=\"dataframe\">\n",
       "  <thead>\n",
       "    <tr style=\"text-align: right;\">\n",
       "      <th></th>\n",
       "      <th>Title</th>\n",
       "      <th>Price</th>\n",
       "      <th>Date</th>\n",
       "    </tr>\n",
       "  </thead>\n",
       "  <tbody>\n",
       "    <tr>\n",
       "      <th>0</th>\n",
       "      <td>Got Data Funny Business Data Analyst T-Shirt</td>\n",
       "      <td>15.99</td>\n",
       "      <td>2025-05-08</td>\n",
       "    </tr>\n",
       "  </tbody>\n",
       "</table>\n",
       "</div>"
      ],
      "text/plain": [
       "                                          Title  Price        Date\n",
       "0  Got Data Funny Business Data Analyst T-Shirt  15.99  2025-05-08"
      ]
     },
     "execution_count": 46,
     "metadata": {},
     "output_type": "execute_result"
    }
   ],
   "source": [
    "import pandas as pd\n",
    "df = pd.read_csv('AmazonWebScraperData.csv')\n",
    "df"
   ]
  },
  {
   "cell_type": "code",
   "execution_count": null,
   "id": "6eb1fb2c",
   "metadata": {},
   "outputs": [],
   "source": [
    "#now we will append the data to the csv file\n",
    "with open('AmazonWebScraperData.csv', 'a+', newline='', encoding='UTF8') as f:\n",
    "    writer = csv.writer(f)\n",
    "    writer.writerow(Data)\n",
    "     "
   ]
  },
  {
   "cell_type": "code",
   "execution_count": 71,
   "id": "edafd331",
   "metadata": {},
   "outputs": [
    {
     "name": "stdout",
     "output_type": "stream",
     "text": [
      "Email sent!\n"
     ]
    }
   ],
   "source": [
    "# If uou want to try sending yourself an email (just for fun) when a price hits below a certain level you can try it\n",
    "# out with this script\n",
    "import smtplib\n",
    "\n",
    "def send_mail():\n",
    "    server = smtplib.SMTP_SSL('smtp.gmail.com', 465)\n",
    "    server.ehlo()\n",
    "    server.login('tyagiyaxh627@gmail.com', 'ooro zpad pllv zlbs')  # Use your app password here\n",
    "\n",
    "    subject = \"The Shirt you want is below $15! Now is your chance to buy!\"\n",
    "    body = (\n",
    "        \"Alex, This is the moment we have been waiting for. \"\n",
    "        \"Now is your chance to pick up the shirt of your dreams. \"\n",
    "        \"Don't mess it up! Link here: \"\n",
    "        \"https://www.amazon.com/Funny-Data-Systems-Business-Analyst/dp/B07FNW9FGJ/\"\n",
    "    )\n",
    "    msg = f\"Subject: {subject}\\n\\n{body}\"\n",
    "\n",
    "    # Fix: Add the recipient's email address correctly\n",
    "    server.sendmail(\n",
    "        'tyagiyaxh627@gmail.com',  # sender\n",
    "        'tyagiyash627@gmail.com',   # recipient\n",
    "        msg                        # message\n",
    "    )\n",
    "\n",
    "    server.quit()\n",
    "    print(\"Email sent!\")\n",
    "\n",
    "send_mail()\n"
   ]
  },
  {
   "cell_type": "code",
   "execution_count": 74,
   "id": "c2f73af2",
   "metadata": {},
   "outputs": [],
   "source": [
    "def price_Check():\n",
    "    url = r'https://www.amazon.com/Funny-Data-Systems-Business-Analyst/dp/B07FNW9FGJ/ref=sr_1_3?dchild=1&keywords=data%2Banalyst%2Btshirt&qid=1626655184&sr=8-3&customId=B0752XJYNL&th=&customizationToken=MC_Assembly_1%23B0752XJYNL'\n",
    "\n",
    "    page = requests.get(url)\n",
    "    soup1 = BeautifulSoup(page.content, 'html.parser')   \n",
    "    soup2 = BeautifulSoup(soup1.prettify(), 'html.parser')\n",
    "    title = soup2.find(id='productTitle').get_text()\n",
    "    symbol = soup2.find(\"span\", class_=\"a-price-symbol\").get_text(strip=True)\n",
    "    whole = soup2.find(\"span\", class_=\"a-price-whole\").get_text(strip=True)\n",
    "    fraction = soup2.find(\"span\", class_=\"a-price-fraction\").get_text(strip=True)\n",
    "    price = f\"{symbol}{whole}{fraction}\"\n",
    "\n",
    "    price= price.strip()[1:]\n",
    "    title = title.strip()\n",
    "    import datetime\n",
    "    today =datetime.date.today()\n",
    "    import csv\n",
    "    header = ['Title', 'Price', 'Date']\n",
    "    Data = [title, price,today]\n",
    "    with open('AmazonWebScraperData.csv', 'a+', newline='', encoding='UTF8') as f:\n",
    "        writer = csv.writer(f)\n",
    "        writer.writerow(Data)\n",
    "\n",
    "    if float(price) < 17:\n",
    "        send_mail()"
   ]
  },
  {
   "cell_type": "code",
   "execution_count": 75,
   "id": "7b505ced",
   "metadata": {},
   "outputs": [
    {
     "name": "stdout",
     "output_type": "stream",
     "text": [
      "Email sent!\n",
      "Email sent!\n",
      "Email sent!\n",
      "Email sent!\n",
      "Email sent!\n",
      "Email sent!\n"
     ]
    },
    {
     "ename": "KeyboardInterrupt",
     "evalue": "",
     "output_type": "error",
     "traceback": [
      "\u001b[31m---------------------------------------------------------------------------\u001b[39m",
      "\u001b[31mKeyboardInterrupt\u001b[39m                         Traceback (most recent call last)",
      "\u001b[36mCell\u001b[39m\u001b[36m \u001b[39m\u001b[32mIn[75]\u001b[39m\u001b[32m, line 3\u001b[39m\n\u001b[32m      1\u001b[39m \u001b[38;5;28;01mwhile\u001b[39;00m \u001b[38;5;28;01mTrue\u001b[39;00m :\n\u001b[32m      2\u001b[39m     price_Check()\n\u001b[32m----> \u001b[39m\u001b[32m3\u001b[39m     \u001b[43mtime\u001b[49m\u001b[43m.\u001b[49m\u001b[43msleep\u001b[49m\u001b[43m(\u001b[49m\u001b[32;43m3\u001b[39;49m\u001b[43m)\u001b[49m \u001b[38;5;66;03m#time in seconds\u001b[39;00m\n",
      "\u001b[31mKeyboardInterrupt\u001b[39m: "
     ]
    }
   ],
   "source": [
    "while True :\n",
    "    price_Check()\n",
    "    time.sleep(3) #time in seconds"
   ]
  },
  {
   "cell_type": "code",
   "execution_count": 52,
   "id": "d62b3cb7",
   "metadata": {},
   "outputs": [
    {
     "data": {
      "text/html": [
       "<div>\n",
       "<style scoped>\n",
       "    .dataframe tbody tr th:only-of-type {\n",
       "        vertical-align: middle;\n",
       "    }\n",
       "\n",
       "    .dataframe tbody tr th {\n",
       "        vertical-align: top;\n",
       "    }\n",
       "\n",
       "    .dataframe thead th {\n",
       "        text-align: right;\n",
       "    }\n",
       "</style>\n",
       "<table border=\"1\" class=\"dataframe\">\n",
       "  <thead>\n",
       "    <tr style=\"text-align: right;\">\n",
       "      <th></th>\n",
       "      <th>Title</th>\n",
       "      <th>Price</th>\n",
       "      <th>Date</th>\n",
       "    </tr>\n",
       "  </thead>\n",
       "  <tbody>\n",
       "    <tr>\n",
       "      <th>0</th>\n",
       "      <td>Got Data Funny Business Data Analyst T-Shirt</td>\n",
       "      <td>15.99</td>\n",
       "      <td>2025-05-08</td>\n",
       "    </tr>\n",
       "    <tr>\n",
       "      <th>1</th>\n",
       "      <td>Got Data Funny Business Data Analyst T-Shirt</td>\n",
       "      <td>15.99</td>\n",
       "      <td>2025-05-08</td>\n",
       "    </tr>\n",
       "    <tr>\n",
       "      <th>2</th>\n",
       "      <td>Got Data Funny Business Data Analyst T-Shirt</td>\n",
       "      <td>15.99</td>\n",
       "      <td>2025-05-08</td>\n",
       "    </tr>\n",
       "    <tr>\n",
       "      <th>3</th>\n",
       "      <td>Got Data Funny Business Data Analyst T-Shirt</td>\n",
       "      <td>15.99</td>\n",
       "      <td>2025-05-08</td>\n",
       "    </tr>\n",
       "    <tr>\n",
       "      <th>4</th>\n",
       "      <td>Got Data Funny Business Data Analyst T-Shirt</td>\n",
       "      <td>15.99</td>\n",
       "      <td>2025-05-08</td>\n",
       "    </tr>\n",
       "    <tr>\n",
       "      <th>5</th>\n",
       "      <td>Got Data Funny Business Data Analyst T-Shirt</td>\n",
       "      <td>15.99</td>\n",
       "      <td>2025-05-08</td>\n",
       "    </tr>\n",
       "    <tr>\n",
       "      <th>6</th>\n",
       "      <td>Got Data Funny Business Data Analyst T-Shirt</td>\n",
       "      <td>15.99</td>\n",
       "      <td>2025-05-08</td>\n",
       "    </tr>\n",
       "    <tr>\n",
       "      <th>7</th>\n",
       "      <td>Got Data Funny Business Data Analyst T-Shirt</td>\n",
       "      <td>15.99</td>\n",
       "      <td>2025-05-08</td>\n",
       "    </tr>\n",
       "    <tr>\n",
       "      <th>8</th>\n",
       "      <td>Got Data Funny Business Data Analyst T-Shirt</td>\n",
       "      <td>15.99</td>\n",
       "      <td>2025-05-08</td>\n",
       "    </tr>\n",
       "  </tbody>\n",
       "</table>\n",
       "</div>"
      ],
      "text/plain": [
       "                                          Title  Price        Date\n",
       "0  Got Data Funny Business Data Analyst T-Shirt  15.99  2025-05-08\n",
       "1  Got Data Funny Business Data Analyst T-Shirt  15.99  2025-05-08\n",
       "2  Got Data Funny Business Data Analyst T-Shirt  15.99  2025-05-08\n",
       "3  Got Data Funny Business Data Analyst T-Shirt  15.99  2025-05-08\n",
       "4  Got Data Funny Business Data Analyst T-Shirt  15.99  2025-05-08\n",
       "5  Got Data Funny Business Data Analyst T-Shirt  15.99  2025-05-08\n",
       "6  Got Data Funny Business Data Analyst T-Shirt  15.99  2025-05-08\n",
       "7  Got Data Funny Business Data Analyst T-Shirt  15.99  2025-05-08\n",
       "8  Got Data Funny Business Data Analyst T-Shirt  15.99  2025-05-08"
      ]
     },
     "execution_count": 52,
     "metadata": {},
     "output_type": "execute_result"
    }
   ],
   "source": [
    "import pandas as pd\n",
    "df = pd.read_csv('AmazonWebScraperData.csv')\n",
    "df"
   ]
  },
  {
   "cell_type": "code",
   "execution_count": null,
   "id": "adfabb60",
   "metadata": {},
   "outputs": [],
   "source": [
    "ratings = soup2.find(\"i\",class_ = \"a-icon-alt\").get_text(strip=True)"
   ]
  },
  {
   "cell_type": "code",
   "execution_count": 55,
   "id": "d1602d86",
   "metadata": {},
   "outputs": [
    {
     "name": "stdout",
     "output_type": "stream",
     "text": [
      "Reviews: (22)\n"
     ]
    }
   ],
   "source": [
    "reviews = soup2.find(\"span\", id=\"acrCustomerReviewText\").get_text(strip=True)\n",
    "print(\"Reviews:\", reviews)\n"
   ]
  },
  {
   "cell_type": "code",
   "execution_count": 56,
   "id": "c4189654",
   "metadata": {},
   "outputs": [
    {
     "name": "stdout",
     "output_type": "stream",
     "text": [
      "Number of Reviews: 22\n"
     ]
    }
   ],
   "source": [
    "import re\n",
    "\n",
    "reviews_text = soup2.find(\"span\", id=\"acrCustomerReviewText\").get_text(strip=True)\n",
    "reviews_number = int(re.search(r'\\d+', reviews_text).group())\n",
    "\n",
    "print(\"Number of Reviews:\", reviews_number)\n"
   ]
  }
 ],
 "metadata": {
  "kernelspec": {
   "display_name": ".venv",
   "language": "python",
   "name": "python3"
  },
  "language_info": {
   "codemirror_mode": {
    "name": "ipython",
    "version": 3
   },
   "file_extension": ".py",
   "mimetype": "text/x-python",
   "name": "python",
   "nbconvert_exporter": "python",
   "pygments_lexer": "ipython3",
   "version": "3.11.9"
  }
 },
 "nbformat": 4,
 "nbformat_minor": 5
}
